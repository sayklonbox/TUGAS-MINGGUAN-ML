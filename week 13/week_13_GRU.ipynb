{
  "nbformat": 4,
  "nbformat_minor": 0,
  "metadata": {
    "colab": {
      "name": "week 13 GRU",
      "provenance": [],
      "collapsed_sections": []
    },
    "kernelspec": {
      "name": "python3",
      "display_name": "Python 3"
    },
    "language_info": {
      "name": "python"
    }
  },
  "cells": [
    {
      "cell_type": "markdown",
      "source": [
        "# IMPORT LIBRARY"
      ],
      "metadata": {
        "id": "J2ZV8SSPMrSR"
      }
    },
    {
      "cell_type": "code",
      "execution_count": 2,
      "metadata": {
        "id": "m-wrDHohMcNQ"
      },
      "outputs": [],
      "source": [
        "import json\n",
        "\n",
        "import pandas as pd\n",
        "import numpy as np\n",
        "import plotly.express as px\n",
        "import tensorflow.keras.layers as L\n",
        "import tensorflow as tf\n",
        "from sklearn.model_selection import train_test_split"
      ]
    },
    {
      "cell_type": "code",
      "source": [
        "from google.colab import drive\n",
        "drive.mount('/content/gdrive')"
      ],
      "metadata": {
        "colab": {
          "base_uri": "https://localhost:8080/"
        },
        "id": "HsTYJaJINrG7",
        "outputId": "dc0c5955-b6a1-4001-b540-9aabc3d5cdc4"
      },
      "execution_count": 3,
      "outputs": [
        {
          "output_type": "stream",
          "name": "stdout",
          "text": [
            "Mounted at /content/gdrive\n"
          ]
        }
      ]
    },
    {
      "cell_type": "code",
      "source": [
        "tf.random.set_seed(2020)\n",
        "np.random.seed(2020)"
      ],
      "metadata": {
        "id": "JF39Ftz9N3-U"
      },
      "execution_count": 4,
      "outputs": []
    },
    {
      "cell_type": "code",
      "source": [
        "# This will tell us the columns we are predicting\n",
        "pred_cols = ['reactivity', 'deg_Mg_pH10', 'deg_Mg_50C', 'deg_pH10', 'deg_50C']"
      ],
      "metadata": {
        "id": "75qKKKEpN5OJ"
      },
      "execution_count": 5,
      "outputs": []
    },
    {
      "cell_type": "code",
      "source": [
        "y_true = tf.random.normal((32, 68, 3))\n",
        "y_pred = tf.random.normal((32, 68, 3))"
      ],
      "metadata": {
        "id": "gBxLDnT6N8s9"
      },
      "execution_count": 6,
      "outputs": []
    },
    {
      "cell_type": "code",
      "source": [
        "def MCRMSE(y_true, y_pred):\n",
        "    colwise_mse = tf.reduce_mean(tf.square(y_true - y_pred), axis=1)\n",
        "    return tf.reduce_mean(tf.sqrt(colwise_mse), axis=1)"
      ],
      "metadata": {
        "id": "y4-01iY9N-Vz"
      },
      "execution_count": 7,
      "outputs": []
    },
    {
      "cell_type": "code",
      "source": [
        "def gru_layer(hidden_dim, dropout):\n",
        "    return L.Bidirectional(L.GRU(\n",
        "        hidden_dim, dropout=dropout, return_sequences=True, kernel_initializer='orthogonal'))"
      ],
      "metadata": {
        "id": "XLa7bszcOAV_"
      },
      "execution_count": 8,
      "outputs": []
    },
    {
      "cell_type": "code",
      "source": [
        "def build_model(embed_size, seq_len=107, pred_len=68, dropout=0.5, \n",
        "                sp_dropout=0.2, embed_dim=200, hidden_dim=256, n_layers=3):\n",
        "    inputs = L.Input(shape=(seq_len, 3))\n",
        "    embed = L.Embedding(input_dim=embed_size, output_dim=embed_dim)(inputs)\n",
        "    \n",
        "    reshaped = tf.reshape(\n",
        "        embed, shape=(-1, embed.shape[1],  embed.shape[2] * embed.shape[3])\n",
        "    )\n",
        "    hidden = L.SpatialDropout1D(sp_dropout)(reshaped)\n",
        "    \n",
        "    for x in range(n_layers):\n",
        "        hidden = gru_layer(hidden_dim, dropout)(hidden)\n",
        "    \n",
        "    # Since we are only making predictions on the first part of each sequence, \n",
        "    # we have to truncate it\n",
        "    truncated = hidden[:, :pred_len]\n",
        "    out = L.Dense(5, activation='linear')(truncated)\n",
        "    \n",
        "    model = tf.keras.Model(inputs=inputs, outputs=out)\n",
        "    model.compile(tf.optimizers.Adam(), loss=MCRMSE)\n",
        "    \n",
        "    return model"
      ],
      "metadata": {
        "id": "ckzmNaMROB8h"
      },
      "execution_count": 9,
      "outputs": []
    },
    {
      "cell_type": "code",
      "source": [
        "def pandas_list_to_array(df):\n",
        "    \"\"\"\n",
        "    Input: dataframe of shape (x, y), containing list of length l\n",
        "    Return: np.array of shape (x, l, y)\n",
        "    \"\"\"\n",
        "    \n",
        "    return np.transpose(\n",
        "        np.array(df.values.tolist()),\n",
        "        (0, 2, 1)\n",
        "    )"
      ],
      "metadata": {
        "id": "NmjBJ20OODlN"
      },
      "execution_count": 10,
      "outputs": []
    },
    {
      "cell_type": "code",
      "source": [
        "def preprocess_inputs(df, token2int, cols=['sequence', 'structure', 'predicted_loop_type']):\n",
        "    return pandas_list_to_array(\n",
        "        df[cols].applymap(lambda seq: [token2int[x] for x in seq])\n",
        "    )"
      ],
      "metadata": {
        "id": "DRQIscTOOJmX"
      },
      "execution_count": 11,
      "outputs": []
    },
    {
      "cell_type": "code",
      "source": [
        "data_dir = '/kaggle/input/stanford-covid-vaccine/'\n",
        "train = pd.read_json(data_dir + 'train.json', lines=True)\n",
        "test = pd.read_json(data_dir + 'test.json', lines=True)\n",
        "sample_df = pd.read_csv(data_dir + 'sample_submission.csv')"
      ],
      "metadata": {
        "id": "KSV5vBM5Oevt"
      },
      "execution_count": null,
      "outputs": []
    }
  ]
}